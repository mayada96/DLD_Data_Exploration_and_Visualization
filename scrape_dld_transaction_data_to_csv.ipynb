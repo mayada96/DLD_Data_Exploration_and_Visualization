{
 "cells": [
  {
   "cell_type": "code",
   "execution_count": 28,
   "id": "33118ff0-d5cb-4859-a2fc-8bf9b1be6ae2",
   "metadata": {},
   "outputs": [],
   "source": [
    "# Import libararies\n",
    "import pandas as pd\n",
    "from datetime import datetime\n",
    "from selenium import webdriver\n",
    "from selenium.webdriver.common.by import By\n",
    "from selenium.webdriver.support.ui import WebDriverWait\n",
    "from selenium.webdriver.support import expected_conditions as EC"
   ]
  },
  {
   "cell_type": "code",
   "execution_count": 29,
   "id": "6c4e1d09-e05a-494e-93b2-b80ae1527fe6",
   "metadata": {},
   "outputs": [
    {
     "name": "stdout",
     "output_type": "stream",
     "text": [
      "Search button clicked\n",
      "Table loaded\n"
     ]
    }
   ],
   "source": [
    "# implement a function to Enter dates and Search for the table\n",
    "def scrape_dld_transaction_data_to_csv():\n",
    "    # Initialize Chrome WebDriver\n",
    "    driver = webdriver.Chrome()\n",
    "    driver.get(\"https://dubailand.gov.ae/en/open-data/real-estate-data/#/\")\n",
    "    driver.implicitly_wait(10)  # Wait for elements to appear\n",
    "\n",
    "    # Execute JavaScript to set the From Date and To Date to desired values\n",
    "    start_date = \"06/01/2024\"\n",
    "    end_date = \"08/01/2024\"\n",
    "    script = f'''\n",
    "        document.getElementById('transaction_pFromDate').value = '{start_date}';\n",
    "        document.getElementById('transaction_pToDate').value = '{end_date}';\n",
    "        document.querySelector('button.btn.btn_1.btn_style1').click();\n",
    "    '''\n",
    "    driver.execute_script(script)\n",
    "    print(\"Search button clicked\")\n",
    "\n",
    "    # Wait for the table to load\n",
    "    WebDriverWait(driver, 5).until(EC.presence_of_element_located((By.ID, \"transactionGrid_info\")))\n",
    "    print(\"Table loaded\")\n",
    "\n",
    "    # Execute JavaScript to select '100' from the dropdown menu\n",
    "    select_script = '''\n",
    "        var dropdown = document.querySelector('select[name=\"transactionGrid_length\"]');\n",
    "        dropdown.value = '100';\n",
    "        dropdown.dispatchEvent(new Event('change'));\n",
    "        \n",
    "    '''\n",
    "    driver.execute_script(select_script)  \n",
    "\n",
    "    # Close the WebDriver session\n",
    "    driver.quit()\n",
    "\n",
    "# Scrape data and save to CSV\n",
    "scrape_dld_transaction_data_to_csv()\n"
   ]
  },
  {
   "cell_type": "code",
   "execution_count": 31,
   "id": "2fb2fd39-9aa2-4a34-a771-07e67ec02144",
   "metadata": {},
   "outputs": [
    {
     "name": "stdout",
     "output_type": "stream",
     "text": [
      "Search button clicked\n",
      "Table loaded\n",
      "Data exported to CSV\n"
     ]
    }
   ],
   "source": [
    "# implement a function to Enter dates and Search for the table\n",
    "def scrape_dld_transaction_data_to_csv():\n",
    "    # Initialize Chrome WebDriver\n",
    "    driver = webdriver.Chrome()\n",
    "    driver.get(\"https://dubailand.gov.ae/en/open-data/real-estate-data/#/\")\n",
    "    driver.implicitly_wait(10)  # Wait for elements to appear\n",
    "\n",
    "    # Execute JavaScript to set the From Date and To Date to desired values\n",
    "    start_date = \"20/01/2024\"\n",
    "    end_date = \"05/02/2024\"\n",
    "    script = f'''\n",
    "        document.getElementById('transaction_pFromDate').value = '{start_date}';\n",
    "        document.getElementById('transaction_pToDate').value = '{end_date}';\n",
    "        document.querySelector('button.btn.btn_1.btn_style1').click();\n",
    "    '''\n",
    "    driver.execute_script(script)\n",
    "    print(\"Search button clicked\")\n",
    "\n",
    "    # Wait for the table to load\n",
    "    WebDriverWait(driver, 5).until(EC.presence_of_element_located((By.ID, \"transactionGrid_info\")))\n",
    "    print(\"Table loaded\")\n",
    "\n",
    "    # Execute JavaScript to select '100' from the dropdown menu\n",
    "    select_script = '''\n",
    "        var dropdown = document.querySelector('select[name=\"transactionGrid_length\"]');\n",
    "        dropdown.value = '100';\n",
    "        dropdown.dispatchEvent(new Event('change'));\n",
    "        \n",
    "    '''\n",
    "    driver.execute_script(select_script) \n",
    "\n",
    "    # Extract data from all pages\n",
    "    all_data = []\n",
    "    while True:\n",
    "\n",
    "        WebDriverWait(driver, 3).until_not(EC.visibility_of_element_located((By.ID, 'transactionGrid_processing')))\n",
    "        # Extract data from the current page\n",
    "        rows = WebDriverWait(driver, 3).until(EC.presence_of_all_elements_located((By.CSS_SELECTOR, '#transactionGrid tbody tr')))\n",
    "        for row in rows:\n",
    "            row_data = [td.text for td in row.find_elements(By.TAG_NAME, 'td')]\n",
    "            all_data.append(row_data)\n",
    "\n",
    "        # Check if there is a next page\n",
    "        next_button = WebDriverWait(driver, 3).until(EC.element_to_be_clickable((By.ID, 'transactionGrid_next')))\n",
    "        if 'disabled' in next_button.get_attribute('class'):\n",
    "            break  # Exit the loop if there's no next page\n",
    "\n",
    "        # Scroll to the next button\n",
    "        driver.execute_script(\"arguments[0].scrollIntoView();\", next_button)\n",
    "\n",
    "        # Click on the next button to go to the next page\n",
    "        driver.execute_script(\"arguments[0].click();\", next_button)\n",
    "\n",
    "        # Wait for the table to refresh\n",
    "        WebDriverWait(driver, 3).until(EC.staleness_of(rows[0]))  \n",
    "        WebDriverWait(driver, 2).until(EC.presence_of_element_located((By.ID, \"transactionGrid_info\")))\n",
    "\n",
    "    # Close the WebDriver session\n",
    "    driver.quit()\n",
    "\n",
    "    # If there's no data, exit the function\n",
    "    if not all_data:\n",
    "        print(\"No data available in table\")\n",
    "        return\n",
    "\n",
    "    # Convert the data to DataFrame\n",
    "    df = pd.DataFrame(all_data, columns=[\n",
    "        'Transaction Number', 'Transaction Date', 'Transaction Type', 'Transaction sub type',\n",
    "        'Registration type', 'Is Free Hold?', 'Usage', 'Area', 'Property Type', 'Property Sub Type',\n",
    "        'Amount', 'Transaction Size (sq.m)', 'Property Size (sq.m)', 'Room(s)', 'Parking',\n",
    "        'Nearest Metro', 'Nearest Mall', 'Nearest Landmark', 'No. of Buyer', 'No. of Seller',\n",
    "        'Master Project', 'Project'\n",
    "    ])\n",
    "\n",
    "    # Export DataFrame to CSV\n",
    "    df.to_csv('dld_transactions.csv', index=False)\n",
    "    print(\"Data exported to CSV\")\n",
    "\n",
    "\n",
    "# Scrape data and save to CSV\n",
    "scrape_dld_transaction_data_to_csv()\n"
   ]
  },
  {
   "cell_type": "code",
   "execution_count": null,
   "id": "7e27f779-3a27-4739-b37b-14e717cc9156",
   "metadata": {},
   "outputs": [],
   "source": []
  },
  {
   "cell_type": "code",
   "execution_count": null,
   "id": "51dd7ece-b52c-4d83-8f1e-bb34054bb3b3",
   "metadata": {},
   "outputs": [],
   "source": []
  },
  {
   "cell_type": "code",
   "execution_count": null,
   "id": "828e2e7a-22d1-46dc-a272-c664f9faa860",
   "metadata": {},
   "outputs": [],
   "source": []
  }
 ],
 "metadata": {
  "kernelspec": {
   "display_name": "Python 3 (ipykernel)",
   "language": "python",
   "name": "python3"
  },
  "language_info": {
   "codemirror_mode": {
    "name": "ipython",
    "version": 3
   },
   "file_extension": ".py",
   "mimetype": "text/x-python",
   "name": "python",
   "nbconvert_exporter": "python",
   "pygments_lexer": "ipython3",
   "version": "3.12.1"
  }
 },
 "nbformat": 4,
 "nbformat_minor": 5
}
